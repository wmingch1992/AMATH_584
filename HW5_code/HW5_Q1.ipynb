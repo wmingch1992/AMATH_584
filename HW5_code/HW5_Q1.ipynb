{
 "cells": [
  {
   "cell_type": "code",
   "execution_count": 1,
   "metadata": {},
   "outputs": [],
   "source": [
    "# import packages\n",
    "import numpy as np\n",
    "import jax.scipy as jsp # boost computation\n",
    "import matplotlib.pyplot as plt\n",
    "import imageio\n",
    "from os import listdir\n",
    "from scipy.sparse.linalg import eigs"
   ]
  },
  {
   "cell_type": "code",
   "execution_count": 2,
   "metadata": {},
   "outputs": [],
   "source": [
    "# interactive plotting\n",
    "#%matplotlib notebook\n",
    "%matplotlib inline"
   ]
  },
  {
   "cell_type": "markdown",
   "metadata": {},
   "source": [
    "### HW5, Q1 "
   ]
  },
  {
   "cell_type": "markdown",
   "metadata": {},
   "source": [
    "### Q1,a) use eigs give the ground truth eigenvalues and eigenvectors"
   ]
  },
  {
   "cell_type": "code",
   "execution_count": 11,
   "metadata": {},
   "outputs": [
    {
     "name": "stdout",
     "output_type": "stream",
     "text": [
      "ground truth eigenvalues: [ 6.60836165+0.j -5.34704838+0.j -4.6520863 +0.j -3.42993679+0.j\n",
      " -2.58401996+0.j  3.70353345+0.j  2.57438465+0.j  3.24742656+0.j\n",
      "  0.1484506 +0.j -0.02547122+0.j]\n",
      "eigenvector for largest eigenvalues:\n",
      "[ 0.24398087  0.10934004 -0.24739042  0.04289295 -0.2804554  -0.31357739\n",
      "  0.17904138  0.07073966 -0.58049776 -0.56076082]\n"
     ]
    }
   ],
   "source": [
    "N = 10\n",
    "a = np.random.randn(N, N)\n",
    "m = np.tril(a) + np.tril(a, -1).T\n",
    "true_lambda, true_vec = eigs(m,k=10)\n",
    "print(\"ground truth eigenvalues: \" + str(true_lambda))\n",
    "print(\"eigenvector for largest eigenvalues:\")\n",
    "print(true_vec[:,0])"
   ]
  },
  {
   "cell_type": "markdown",
   "metadata": {},
   "source": [
    "### Q1,b) find largest eigenvalues with the power iteration method"
   ]
  },
  {
   "cell_type": "code",
   "execution_count": 12,
   "metadata": {},
   "outputs": [],
   "source": [
    "def power_iterate(A):\n",
    "    n1 = A.shape[0]\n",
    "    n2 = A.shape[1]\n",
    "    v=np.random.randn(n1,1)\n",
    "    lambda_max = np.inf\n",
    "    tol = 1e-5\n",
    "    lambdaold = 1\n",
    "    lambda_ite=[]\n",
    "    \n",
    "    while abs(lambda_max-lambdaold) > tol:\n",
    "        lambdaold = lambda_max\n",
    "        vnew = np.dot(A,v)\n",
    "        v = vnew/np.linalg.norm(vnew)\n",
    "        #print(v.shape)\n",
    "        lambda_max = np.dot(np.dot(v.T,A),v)\n",
    "        #print(lambda_max)\n",
    "        lambda_ite.append(lambda_max)\n",
    "    return lambda_ite, v"
   ]
  },
  {
   "cell_type": "code",
   "execution_count": 13,
   "metadata": {},
   "outputs": [],
   "source": [
    "max_lambda_ite, max_vec = power_iterate(m)"
   ]
  },
  {
   "cell_type": "code",
   "execution_count": 14,
   "metadata": {},
   "outputs": [
    {
     "data": {
      "text/plain": [
       "[array([[-2.90215217]]),\n",
       " array([[-2.9846089]]),\n",
       " array([[-2.5498183]]),\n",
       " array([[-1.57401232]]),\n",
       " array([[-0.29189477]]),\n",
       " array([[1.05892169]]),\n",
       " array([[2.32952906]]),\n",
       " array([[3.43256423]]),\n",
       " array([[4.32733173]]),\n",
       " array([[5.0128019]]),\n",
       " array([[5.51453817]]),\n",
       " array([[5.86939725]]),\n",
       " array([[6.11424178]]),\n",
       " array([[6.28028445]]),\n",
       " array([[6.39156565]]),\n",
       " array([[6.46555577]]),\n",
       " array([[6.51449166]]),\n",
       " array([[6.54674399]]),\n",
       " array([[6.5679517]]),\n",
       " array([[6.58187588]]),\n",
       " array([[6.59100892]]),\n",
       " array([[6.59699552]]),\n",
       " array([[6.600918]]),\n",
       " array([[6.60348735]]),\n",
       " array([[6.60517006]]),\n",
       " array([[6.60627195]]),\n",
       " array([[6.60699346]]),\n",
       " array([[6.60746587]]),\n",
       " array([[6.60777517]]),\n",
       " array([[6.60797768]]),\n",
       " array([[6.60811027]]),\n",
       " array([[6.60819707]]),\n",
       " array([[6.6082539]]),\n",
       " array([[6.60829111]]),\n",
       " array([[6.60831547]]),\n",
       " array([[6.60833141]]),\n",
       " array([[6.60834186]]),\n",
       " array([[6.60834869]])]"
      ]
     },
     "execution_count": 14,
     "metadata": {},
     "output_type": "execute_result"
    }
   ],
   "source": [
    "max_lambda_ite"
   ]
  },
  {
   "cell_type": "code",
   "execution_count": 15,
   "metadata": {},
   "outputs": [
    {
     "data": {
      "text/plain": [
       "array([[ 0.00346209],\n",
       "       [-0.00393416],\n",
       "       [-0.00053583],\n",
       "       [ 0.00576378],\n",
       "       [ 0.00222752],\n",
       "       [-0.00161879],\n",
       "       [ 0.00081064],\n",
       "       [-0.00378992],\n",
       "       [ 0.00633363],\n",
       "       [-0.00559129]])"
      ]
     },
     "execution_count": 15,
     "metadata": {},
     "output_type": "execute_result"
    }
   ],
   "source": [
    "np.dot(m,max_vec) - np.array(max_lambda_ite)[-1,0,0]*np.array(max_vec)"
   ]
  },
  {
   "cell_type": "code",
   "execution_count": 17,
   "metadata": {},
   "outputs": [
    {
     "name": "stderr",
     "output_type": "stream",
     "text": [
      "/Users/wmingch/opt/anaconda3/lib/python3.7/site-packages/numpy/core/_asarray.py:85: ComplexWarning: Casting complex values to real discards the imaginary part\n",
      "  return array(a, dtype, copy=False, order=order)\n"
     ]
    },
    {
     "data": {
      "image/png": "[encoded data removed]",
      "text/plain": [
       "<Figure size 432x288 with 1 Axes>"
      ]
     },
     "metadata": {
      "needs_background": "light"
     },
     "output_type": "display_data"
    }
   ],
   "source": [
    "plt.plot(np.array(max_lambda_ite)[:,0,0])\n",
    "plt.axhline(y=true_lambda[0],c='r')\n",
    "plt.ylabel('lambda')\n",
    "plt.xlabel('Interation')\n",
    "plt.savefig('HW5_1b.png',dpi=200)"
   ]
  },
  {
   "cell_type": "markdown",
   "metadata": {},
   "source": [
    "### c) all ten eigenvalues by Rayleigh Quotient iteration and guessing initial \"eigenvectors\""
   ]
  },
  {
   "cell_type": "code",
   "execution_count": 18,
   "metadata": {},
   "outputs": [],
   "source": [
    "def rayquotient(A):\n",
    "    n1 = A.shape[0]\n",
    "    n2 = A.shape[1]\n",
    "    v=np.random.randn(n1,1)\n",
    "    lambda_max = np.dot(np.dot(v.T,A),v)\n",
    "    tol = 1e-5\n",
    "    lambdaold = 1\n",
    "    lambda_ite=np.zeros((30,n1))\n",
    "    v_final =np.zeros((n1,n2))\n",
    "    \n",
    "    i=0\n",
    "    k=0\n",
    "    while abs(lambda_max-lambdaold) > tol:\n",
    "        lambdaold = lambda_max\n",
    "        w = np.dot(np.linalg.inv((A-lambda_max*np.eye(n1,n1))),v)\n",
    "        #w = (A-lambda_max*np.eye(n1,n1))/v\n",
    "        #print(w.shape)\n",
    "        v=w/np.linalg.norm(w)\n",
    "        #print(v.shape)\n",
    "        lambda_max = np.dot(np.dot(v.T,A),v)\n",
    "        #print(lambda_max.shape)\n",
    "        lambda_ite[i,k] = lambda_max\n",
    "        v_final[:,k] = v[:,0]\n",
    "        i = i+1\n",
    "\n",
    "    i=0\n",
    "    k=1\n",
    "    v=np.random.randn(n1,1)\n",
    "    test = np.reshape(np.dot(v.T,v_final[:,k-1])*v_final[:,k-1],(10,1))\n",
    "    print(test.shape)\n",
    "    v = v-np.reshape(np.dot(v.T,v_final[:,k-1])*v_final[:,k-1],(10,1))\n",
    "    print(v.shape)\n",
    "    v = v/np.linalg.norm(v)\n",
    "    print(v.shape)\n",
    "    lambda_max = np.dot(np.dot(v.T,A),v)\n",
    "    print(lambda_max.shape)\n",
    "    tol = 1e-5\n",
    "    lambdaold = 1\n",
    "    while abs(lambda_max-lambdaold) > tol:\n",
    "        lambdaold = lambda_max\n",
    "        w = np.dot(np.linalg.inv((A-lambda_max*np.eye(n1,n1))),v)\n",
    "        #w = (A-lambda_max*np.eye(n1,n1))/v\n",
    "        #print(w.shape)\n",
    "        v=w/np.linalg.norm(w)\n",
    "        #print(v.shape)\n",
    "        lambda_max = np.dot(np.dot(v.T,A),v)\n",
    "        #print(lambda_max.shape)\n",
    "        lambda_ite[i,k] = lambda_max\n",
    "        v_final[:,k] = v[:,0]\n",
    "        i = i+1        \n",
    "    \n",
    "    return lambda_ite, v_final"
   ]
  },
  {
   "cell_type": "code",
   "execution_count": 19,
   "metadata": {},
   "outputs": [],
   "source": [
    "#use for the vector initialzied for Rayleigh Quotient iteration,\n",
    "#the initial \"eigenvectors\" try to perpendicular to each other, so we could find all the eigenvalues\n",
    "def vector_subtract(v_k_random,v_final,step):\n",
    "    vector_subtract = np.zeros_like(v_k_random)\n",
    "    for i in range(step):\n",
    "        vector_subtract = vector_subtract + np.reshape(np.dot(v_k_random.T,v_final[:,i])*v_final[:,i],(10,1))\n",
    "    return vector_subtract"
   ]
  },
  {
   "cell_type": "code",
   "execution_count": 20,
   "metadata": {},
   "outputs": [],
   "source": [
    "def rayquotient(A):\n",
    "    n1 = A.shape[0]\n",
    "    n2 = A.shape[1]\n",
    "    v=np.random.randn(n1,1)\n",
    "    lambda_max = np.dot(np.dot(v.T,A),v)\n",
    "    tol = 1e-5\n",
    "    lambdaold = 1\n",
    "    lambda_ite=[] #np.zeros((300,n1))\n",
    "    v_final =np.zeros((n1,n2))\n",
    "    \n",
    "    i=0\n",
    "    k=0\n",
    "    lambda_iter_part=[]\n",
    "    while abs(lambda_max-lambdaold) > tol:\n",
    "        lambdaold = lambda_max\n",
    "        w = np.dot(np.linalg.inv((A-lambda_max*np.eye(n1,n1))),v)\n",
    "        #w = (A-lambda_max*np.eye(n1,n1))/v\n",
    "        #print(w.shape)\n",
    "        v=w/np.linalg.norm(w)\n",
    "        #print(v.shape)\n",
    "        lambda_max = np.dot(np.dot(v.T,A),v)\n",
    "        #print(lambda_max.shape)\n",
    "        lambda_iter_part.append(lambda_max)\n",
    "        v_final[:,k] = v[:,0]\n",
    "        i = i+1\n",
    "    lambda_ite.append(lambda_iter_part)\n",
    "    \n",
    "    i=0\n",
    "    for k in range(1,10):\n",
    "        print(k)\n",
    "        lambda_iter_part=[]\n",
    "        v=np.random.randn(n1,1)\n",
    "        v = v - vector_subtract(v,v_final,k)\n",
    "        #v = v-np.reshape(np.dot(v.T,v_final[:,k-1])*v_final[:,k-1],(10,1))\n",
    "        v = v/np.linalg.norm(v)\n",
    "        lambda_max = np.dot(np.dot(v.T,A),v)\n",
    "        #print(lambda_max.shape)\n",
    "        tol = 1e-5\n",
    "        lambdaold = 1\n",
    "        while abs(lambda_max-lambdaold) > tol:\n",
    "            lambdaold = lambda_max\n",
    "            w = np.dot(np.linalg.inv((A-lambda_max*np.eye(n1,n1))),v)\n",
    "            #w = (A-lambda_max*np.eye(n1,n1))/v\n",
    "            #print(w.shape)\n",
    "            v=w/np.linalg.norm(w)\n",
    "            #print(v.shape)\n",
    "            lambda_max = np.dot(np.dot(v.T,A),v)\n",
    "            #print(lambda_max.shape)\n",
    "            lambda_iter_part.append(lambda_max)\n",
    "            v_final[:,k] = v[:,0]\n",
    "            i = i+1        \n",
    "        lambda_ite.append(lambda_iter_part)\n",
    "        \n",
    "    return lambda_ite, v_final"
   ]
  },
  {
   "cell_type": "code",
   "execution_count": 21,
   "metadata": {},
   "outputs": [
    {
     "name": "stdout",
     "output_type": "stream",
     "text": [
      "1\n",
      "2\n",
      "3\n",
      "4\n",
      "5\n",
      "6\n",
      "7\n",
      "8\n",
      "9\n"
     ]
    }
   ],
   "source": [
    "lambda_all_ite, v_all = rayquotient(m)"
   ]
  },
  {
   "cell_type": "code",
   "execution_count": 23,
   "metadata": {},
   "outputs": [
    {
     "name": "stdout",
     "output_type": "stream",
     "text": [
      "Rayleigh Quotient iteration found\n",
      "eig: [-3.42680421 -3.42994356 -3.42993679]\n",
      "eig: [-2.58433563 -2.58401996 -2.58401996]\n",
      "eig: [2.60807444 2.57447724 2.57438465 2.57438465]\n",
      "eig: [-0.01906888 -0.02545645 -0.02547122 -0.02547122]\n",
      "eig: [0.762688   0.16412205 0.14845087 0.1484506 ]\n",
      "eig: [3.27555838 3.24755411 3.24742656 3.24742656]\n",
      "eig: [3.39191215 3.70349994 3.70353345 3.70353345]\n",
      "eig: [4.99362713 6.56300983 6.60836099 6.60836165]\n",
      "eig: [-4.65217461 -4.6520863  -4.6520863 ]\n",
      "eig: -5.347048378279489\n",
      "Rayleigh Quotient iteration found\n",
      "[-0.3882252  -0.57286771  0.21506669 -0.34186985  0.29730566 -0.14363267\n",
      " -0.2719845  -0.12446925 -0.26162466 -0.30172584]\n",
      "[ 0.5151251   0.16395013  0.05941299 -0.4955819   0.57880833 -0.21901219\n",
      "  0.15539518  0.19989933  0.10688588 -0.01085112]\n",
      "[-0.31364931  0.26085503 -0.42257665  0.28340899  0.53258902 -0.27448279\n",
      "  0.05956062 -0.33269742 -0.22786987  0.22256571]\n",
      "[-0.1950051   0.53301259  0.01649055 -0.40937001 -0.16744615  0.01184856\n",
      " -0.15982521 -0.50303762  0.28359951 -0.35045203]\n",
      "[-0.41137281  0.20867967  0.27563845  0.15692497 -0.04823891 -0.59249604\n",
      "  0.05343293  0.4857849   0.28658573 -0.11077553]\n",
      "[ 0.05311266 -0.22020501  0.24701423 -0.16761077 -0.28664033 -0.41675615\n",
      "  0.52126086 -0.44925703 -0.01540143  0.36048449]\n",
      "[ 0.24509487  0.27762367  0.70474659  0.34160913  0.12550213 -0.02272231\n",
      " -0.29472683 -0.20871184 -0.31866287  0.03537506]\n",
      "[-0.24398087 -0.10934004  0.24739042 -0.04289295  0.2804554   0.31357739\n",
      " -0.17904138 -0.07073966  0.58049776  0.56076082]\n",
      "[-0.28075904  0.10880991  0.27332068  0.06284125  0.23193401  0.46436462\n",
      "  0.68919411  0.0414008  -0.08643848 -0.27763197]\n",
      "[ 0.27758262 -0.3160506  -0.04250758  0.46304932  0.17947673 -0.12924122\n",
      "  0.06564309 -0.30449243  0.50932379 -0.44887389]\n"
     ]
    },
    {
     "data": {
      "image/png": "[encoded data removed]",
      "text/plain": [
       "<Figure size 432x288 with 1 Axes>"
      ]
     },
     "metadata": {
      "needs_background": "light"
     },
     "output_type": "display_data"
    }
   ],
   "source": [
    "for i in range(10):\n",
    "    plt.plot(np.squeeze(lambda_all_ite[i]),linewidth=3)\n",
    "plt.xlabel('Iteration')\n",
    "plt.ylabel('Eigenvalue')\n",
    "plt.savefig('HW5_1c.png',dpi=200)\n",
    "\n",
    "print('Rayleigh Quotient iteration found')\n",
    "for i in range(10):\n",
    "    print('eig: ' + str(np.squeeze(lambda_all_ite[i])))\n",
    "print('Rayleigh Quotient iteration found')\n",
    "for i in range(10):\n",
    "    print(v_all[:,i])    "
   ]
  },
  {
   "cell_type": "code",
   "execution_count": 72,
   "metadata": {},
   "outputs": [
    {
     "data": {
      "text/plain": [
       "array([-0.02635602, -0.39367877, -0.14269271,  0.08054542,  0.04348939,\n",
       "        0.56662691,  0.67445736, -0.15999752, -0.11568231, -0.02533563])"
      ]
     },
     "execution_count": 72,
     "metadata": {},
     "output_type": "execute_result"
    }
   ],
   "source": [
    "v_all[:,0]"
   ]
  },
  {
   "cell_type": "markdown",
   "metadata": {},
   "source": [
    "### d) repeate b) and c) with a radndom matrix that is not symmetric"
   ]
  },
  {
   "cell_type": "code",
   "execution_count": 25,
   "metadata": {},
   "outputs": [
    {
     "name": "stdout",
     "output_type": "stream",
     "text": [
      "ground truth eigenvalues: [-3.23404093+0.j         -2.42589675+1.66310163j -2.42589675-1.66310163j\n",
      " -0.39792689+0.33942606j -0.39792689-0.33942606j  2.23865068+0.j\n",
      "  1.87254745+1.04520803j  1.87254745-1.04520803j  1.30418821+0.27204316j\n",
      "  1.30418821-0.27204316j]\n"
     ]
    },
    {
     "name": "stderr",
     "output_type": "stream",
     "text": [
      "/Users/wmingch/opt/anaconda3/lib/python3.7/site-packages/scipy/sparse/linalg/eigen/arpack/arpack.py:1269: RuntimeWarning: k >= N - 1 for N * N square matrix. Attempting to use scipy.linalg.eig instead.\n",
      "  RuntimeWarning)\n"
     ]
    }
   ],
   "source": [
    "N = 10\n",
    "a = np.random.randn(N,N)\n",
    "true_lambda, true_vec = eigs(a,k=10)\n",
    "print(\"ground truth eigenvalues: \" + str(true_lambda))"
   ]
  },
  {
   "cell_type": "code",
   "execution_count": 26,
   "metadata": {},
   "outputs": [
    {
     "data": {
      "image/png": "[encoded data removed]",
      "text/plain": [
       "<Figure size 432x288 with 1 Axes>"
      ]
     },
     "metadata": {
      "needs_background": "light"
     },
     "output_type": "display_data"
    }
   ],
   "source": [
    "true_lambda_real = np.zeros(10)\n",
    "true_lambda_imag = np.zeros(10)\n",
    "for i in range(10):\n",
    "    z = complex(true_lambda[i])\n",
    "    true_lambda_real[i] = z.real\n",
    "    true_lambda_imag[i] = z.imag\n",
    "plt.scatter(true_lambda_real,true_lambda_imag,color='red')\n",
    "plt.xlabel('Real')\n",
    "plt.ylabel('imaginary')\n",
    "plt.axvline(x=0,c='k')\n",
    "plt.axhline(y=0,c='k')\n",
    "plt.savefig('HW5_1d.png',dpi=200)"
   ]
  },
  {
   "cell_type": "code",
   "execution_count": null,
   "metadata": {},
   "outputs": [],
   "source": []
  }
 ],
 "metadata": {
  "kernelspec": {
   "display_name": "Python 3",
   "language": "python",
   "name": "python3"
  },
  "language_info": {
   "codemirror_mode": {
    "name": "ipython",
    "version": 3
   },
   "file_extension": ".py",
   "mimetype": "text/x-python",
   "name": "python",
   "nbconvert_exporter": "python",
   "pygments_lexer": "ipython3",
   "version": "3.7.6"
  }
 },
 "nbformat": 4,
 "nbformat_minor": 4
}
